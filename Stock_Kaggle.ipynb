{
  "nbformat": 4,
  "nbformat_minor": 0,
  "metadata": {
    "colab": {
      "provenance": [],
      "authorship_tag": "ABX9TyPybMl/Dk/Wfi+NpcCDE8Hs",
      "include_colab_link": true
    },
    "kernelspec": {
      "name": "python3",
      "display_name": "Python 3"
    },
    "language_info": {
      "name": "python"
    }
  },
  "cells": [
    {
      "cell_type": "markdown",
      "metadata": {
        "id": "view-in-github",
        "colab_type": "text"
      },
      "source": [
        "<a href=\"https://colab.research.google.com/github/aliiamrr/EGX_Kaggle_Processing/blob/main/Stock_Kaggle.ipynb\" target=\"_parent\"><img src=\"https://colab.research.google.com/assets/colab-badge.svg\" alt=\"Open In Colab\"/></a>"
      ]
    },
    {
      "cell_type": "code",
      "execution_count": null,
      "metadata": {
        "id": "QQh_Qpr_eqPk"
      },
      "outputs": [],
      "source": [
        "import pandas as pd\n",
        "import numpy as np"
      ]
    },
    {
      "cell_type": "code",
      "source": [
        "df = pd.read_csv('/content/ABUK.csv')"
      ],
      "metadata": {
        "id": "ExYR_TzJenur"
      },
      "execution_count": null,
      "outputs": []
    },
    {
      "cell_type": "code",
      "source": [
        "print(df.head())\n",
        "print(df.info())"
      ],
      "metadata": {
        "colab": {
          "base_uri": "https://localhost:8080/"
        },
        "id": "z0RLNFKEev16",
        "outputId": "9eaf4488-d559-4996-f32c-f591ea93cbc3"
      },
      "execution_count": null,
      "outputs": [
        {
          "output_type": "stream",
          "name": "stdout",
          "text": [
            "         Date  Price   Open   High    Low     Vol. Change %\n",
            "0  08/09/2023  48.60  47.80  48.89  47.50    1.02M    1.59%\n",
            "1  08/08/2023  47.84  47.93  48.12  47.30  606.90K   -0.15%\n",
            "2  08/07/2023  47.91  47.61  48.19  47.47  653.90K    0.97%\n",
            "3  08/06/2023  47.45  46.99  47.49  46.60  453.75K    1.09%\n",
            "4  08/03/2023  46.94  46.75  46.94  46.15  368.86K    0.58%\n",
            "<class 'pandas.core.frame.DataFrame'>\n",
            "RangeIndex: 1116 entries, 0 to 1115\n",
            "Data columns (total 7 columns):\n",
            " #   Column    Non-Null Count  Dtype  \n",
            "---  ------    --------------  -----  \n",
            " 0   Date      1116 non-null   object \n",
            " 1   Price     1116 non-null   float64\n",
            " 2   Open      1116 non-null   float64\n",
            " 3   High      1116 non-null   float64\n",
            " 4   Low       1116 non-null   float64\n",
            " 5   Vol.      1116 non-null   object \n",
            " 6   Change %  1116 non-null   object \n",
            "dtypes: float64(4), object(3)\n",
            "memory usage: 61.2+ KB\n",
            "None\n"
          ]
        }
      ]
    },
    {
      "cell_type": "code",
      "source": [
        "df['Date'] = pd.to_datetime(df['Date'], format = '%m/%d/%Y')"
      ],
      "metadata": {
        "id": "r9b1MIari8sR"
      },
      "execution_count": null,
      "outputs": []
    },
    {
      "cell_type": "code",
      "source": [
        "def convert_volume_to_number(volume_str):\n",
        "    \"\"\"\n",
        "    Convert volume string with K, M, B, T suffixes to integers.\n",
        "    Examples:\n",
        "    '1.02M' -> 1020000\n",
        "    '606.90K' -> 606900\n",
        "    '1.5B' -> 1500000000\n",
        "    \"\"\"\n",
        "    if pd.isna(volume_str) or volume_str == '' or volume_str == '-':\n",
        "        return 0\n",
        "\n",
        "    # Remove commas and strip whitespace\n",
        "    volume_str = str(volume_str).replace(',', '').strip()\n",
        "\n",
        "    # Multipliers dictionary\n",
        "    multipliers = {\n",
        "        'K': 1_000,\n",
        "        'M': 1_000_000,\n",
        "        'B': 1_000_000_000,\n",
        "        'T': 1_000_000_000_000\n",
        "    }\n",
        "\n",
        "    # Check if last character is a known multiplier\n",
        "    if volume_str[-1].upper() in multipliers:\n",
        "        multiplier = multipliers[volume_str[-1].upper()]\n",
        "        number_part = float(volume_str[:-1])\n",
        "        return int(number_part * multiplier)\n",
        "    else:\n",
        "        # If there is no suffix, we will assume its a raw number\n",
        "        try:\n",
        "            return int(float(volume_str))\n",
        "        except ValueError:\n",
        "            return 0"
      ],
      "metadata": {
        "id": "iZ_KkWePkMG-"
      },
      "execution_count": null,
      "outputs": []
    },
    {
      "cell_type": "code",
      "source": [
        "# Apply the function/transformation to the volume column\n",
        "df['Vol.'] = df['Vol.'].apply(convert_volume_to_number)"
      ],
      "metadata": {
        "id": "II1EYIBlkUKy"
      },
      "execution_count": null,
      "outputs": []
    },
    {
      "cell_type": "code",
      "source": [
        "print(df.head())"
      ],
      "metadata": {
        "colab": {
          "base_uri": "https://localhost:8080/"
        },
        "id": "qv5ABOc0khUA",
        "outputId": "5695cc12-5a51-4218-9999-b738c6294bc8"
      },
      "execution_count": null,
      "outputs": [
        {
          "output_type": "stream",
          "name": "stdout",
          "text": [
            "        Date  Price   Open   High    Low     Vol. Change %\n",
            "0 2023-08-09  48.60  47.80  48.89  47.50  1020000    1.59%\n",
            "1 2023-08-08  47.84  47.93  48.12  47.30   606900   -0.15%\n",
            "2 2023-08-07  47.91  47.61  48.19  47.47   653900    0.97%\n",
            "3 2023-08-06  47.45  46.99  47.49  46.60   453750    1.09%\n",
            "4 2023-08-03  46.94  46.75  46.94  46.15   368860    0.58%\n"
          ]
        }
      ]
    },
    {
      "cell_type": "code",
      "source": [
        "print(df.info())"
      ],
      "metadata": {
        "colab": {
          "base_uri": "https://localhost:8080/"
        },
        "id": "HxHZEP8nk6kW",
        "outputId": "36379108-d65d-4d1e-b8de-2dadef6ffc3c"
      },
      "execution_count": null,
      "outputs": [
        {
          "output_type": "stream",
          "name": "stdout",
          "text": [
            "<class 'pandas.core.frame.DataFrame'>\n",
            "RangeIndex: 1116 entries, 0 to 1115\n",
            "Data columns (total 7 columns):\n",
            " #   Column    Non-Null Count  Dtype         \n",
            "---  ------    --------------  -----         \n",
            " 0   Date      1116 non-null   datetime64[ns]\n",
            " 1   Price     1116 non-null   float64       \n",
            " 2   Open      1116 non-null   float64       \n",
            " 3   High      1116 non-null   float64       \n",
            " 4   Low       1116 non-null   float64       \n",
            " 5   Vol.      1116 non-null   int64         \n",
            " 6   Change %  1116 non-null   object        \n",
            "dtypes: datetime64[ns](1), float64(4), int64(1), object(1)\n",
            "memory usage: 61.2+ KB\n",
            "None\n"
          ]
        }
      ]
    },
    {
      "cell_type": "code",
      "source": [
        "df = df.rename(columns={'Vol.': 'Volume', 'Price': 'Close'})"
      ],
      "metadata": {
        "id": "IL_c3ocElJ3B"
      },
      "execution_count": null,
      "outputs": []
    },
    {
      "cell_type": "code",
      "source": [
        "print(df.info())"
      ],
      "metadata": {
        "colab": {
          "base_uri": "https://localhost:8080/"
        },
        "id": "g0TIj02alPQt",
        "outputId": "cac457d8-56ec-4736-b246-cb6af63d06d7"
      },
      "execution_count": null,
      "outputs": [
        {
          "output_type": "stream",
          "name": "stdout",
          "text": [
            "<class 'pandas.core.frame.DataFrame'>\n",
            "RangeIndex: 1116 entries, 0 to 1115\n",
            "Data columns (total 7 columns):\n",
            " #   Column    Non-Null Count  Dtype         \n",
            "---  ------    --------------  -----         \n",
            " 0   Date      1116 non-null   datetime64[ns]\n",
            " 1   Close     1116 non-null   float64       \n",
            " 2   Open      1116 non-null   float64       \n",
            " 3   High      1116 non-null   float64       \n",
            " 4   Low       1116 non-null   float64       \n",
            " 5   Volume    1116 non-null   int64         \n",
            " 6   Change %  1116 non-null   object        \n",
            "dtypes: datetime64[ns](1), float64(4), int64(1), object(1)\n",
            "memory usage: 61.2+ KB\n",
            "None\n"
          ]
        }
      ]
    },
    {
      "cell_type": "code",
      "source": [
        "df = df.drop('Change %', axis = 1)"
      ],
      "metadata": {
        "id": "JqLsVmJqlR-1"
      },
      "execution_count": null,
      "outputs": []
    },
    {
      "cell_type": "code",
      "source": [
        "monthly_df = (\n",
        "    df.resample('ME', on='Date')\n",
        "      .agg({\n",
        "          'Open': 'first',\n",
        "          'High': 'max',\n",
        "          'Low': 'min',\n",
        "          'Close': 'last',\n",
        "          'Volume': 'sum'\n",
        "      })\n",
        "      .reset_index()\n",
        ")"
      ],
      "metadata": {
        "id": "cHdh2cufnWV6"
      },
      "execution_count": null,
      "outputs": []
    },
    {
      "cell_type": "code",
      "source": [
        "print(monthly_df.info())"
      ],
      "metadata": {
        "colab": {
          "base_uri": "https://localhost:8080/"
        },
        "id": "JQg6b5lrnbHg",
        "outputId": "0498fa10-3b4c-4cb6-c714-78cd97484d5f"
      },
      "execution_count": null,
      "outputs": [
        {
          "output_type": "stream",
          "name": "stdout",
          "text": [
            "<class 'pandas.core.frame.DataFrame'>\n",
            "RangeIndex: 56 entries, 0 to 55\n",
            "Data columns (total 6 columns):\n",
            " #   Column  Non-Null Count  Dtype         \n",
            "---  ------  --------------  -----         \n",
            " 0   Date    56 non-null     datetime64[ns]\n",
            " 1   Open    56 non-null     float64       \n",
            " 2   High    56 non-null     float64       \n",
            " 3   Low     56 non-null     float64       \n",
            " 4   Close   56 non-null     float64       \n",
            " 5   Volume  56 non-null     int64         \n",
            "dtypes: datetime64[ns](1), float64(4), int64(1)\n",
            "memory usage: 2.8 KB\n",
            "None\n"
          ]
        }
      ]
    },
    {
      "cell_type": "code",
      "source": [
        "print(monthly_df.head())"
      ],
      "metadata": {
        "colab": {
          "base_uri": "https://localhost:8080/"
        },
        "id": "qXeffQJ3n54O",
        "outputId": "385ac624-e9a0-4ee3-e3e5-d39fdbf92cd6"
      },
      "execution_count": null,
      "outputs": [
        {
          "output_type": "stream",
          "name": "stdout",
          "text": [
            "        Date   Open   High    Low  Close   Volume\n",
            "0 2019-01-31  22.95  24.50  22.40  23.30  2518019\n",
            "1 2019-02-28  23.55  27.02  22.80  25.03  3882270\n",
            "2 2019-03-31  24.70  29.25  24.57  26.83  3660049\n",
            "3 2019-04-30  26.30  27.90  26.00  26.72   910690\n",
            "4 2019-05-31  26.54  26.54  23.50  23.81   677830\n"
          ]
        }
      ]
    },
    {
      "cell_type": "code",
      "source": [
        "# Downloading the df as a csv\n",
        "monthly_df.to_csv('ABUK_Kaggle_Cleaned', index=False)"
      ],
      "metadata": {
        "id": "XkBZB_6SGKbl"
      },
      "execution_count": null,
      "outputs": []
    }
  ]
}